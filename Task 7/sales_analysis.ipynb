{
  "cells": [
    {
      "cell_type": "markdown",
      "metadata": {},
      "source": [
        "# Task 7: Basic Sales Summary from SQLite Database using Python\n",
        "\n",
        "**Objective**: Use SQL inside Python to pull simple sales info (like total quantity sold, total revenue), and display it using basic print statements and a simple bar chart.\n",
        "\n",
        "**Tools**: Python (sqlite3, pandas, matplotlib), SQLite, Jupyter Notebook\n",
        "\n",
        "---\n"
      ]
    },
    {
      "cell_type": "markdown",
      "metadata": {},
      "source": [
        "## 1. Import Required Libraries\n",
        "\n",
        "First, let's import all the necessary libraries for our analysis.\n"
      ]
    },
    {
      "cell_type": "code",
      "execution_count": null,
      "metadata": {},
      "outputs": [],
      "source": [
        "import sqlite3\n",
        "import pandas as pd\n",
        "import matplotlib.pyplot as plt\n",
        "import seaborn as sns\n",
        "\n",
        "# Set up plotting style\n",
        "plt.style.use('default')\n",
        "sns.set_palette(\"husl\")\n",
        "\n",
        "print(\"✅ Libraries imported successfully!\")\n"
      ]
    },
    {
      "cell_type": "markdown",
      "metadata": {},
      "source": [
        "## 2. Connect to SQLite Database\n",
        "\n",
        "We'll connect to our `sales_data.db` SQLite database.\n"
      ]
    },
    {
      "cell_type": "code",
      "execution_count": null,
      "metadata": {},
      "outputs": [],
      "source": [
        "# Connect to the SQLite database\n",
        "conn = sqlite3.connect('sales_data.db')\n",
        "print(\"✅ Successfully connected to sales_data.db\")\n",
        "\n",
        "# Let's check what tables exist in our database\n",
        "cursor = conn.cursor()\n",
        "cursor.execute(\"SELECT name FROM sqlite_master WHERE type='table';\")\n",
        "tables = cursor.fetchall()\n",
        "print(f\"📋 Tables in database: {[table[0] for table in tables]}\")\n"
      ]
    },
    {
      "cell_type": "markdown",
      "metadata": {},
      "source": [
        "## 3. Run Basic SQL Query\n",
        "\n",
        "Now let's run our main SQL query to get sales summary by product, as specified in the task.\n"
      ]
    },
    {
      "cell_type": "code",
      "execution_count": null,
      "metadata": {},
      "outputs": [],
      "source": [
        "# Main SQL query for sales summary (as specified in the task)\n",
        "query = \"\"\"\n",
        "SELECT product, SUM(quantity) AS total_qty, SUM(quantity * price) AS revenue \n",
        "FROM sales \n",
        "GROUP BY product\n",
        "ORDER BY revenue DESC\n",
        "\"\"\"\n",
        "\n",
        "print(\"🔍 Running SQL Query:\")\n",
        "print(\"=\" * 50)\n",
        "print(query)\n",
        "print(\"=\" * 50)\n",
        "\n",
        "# Execute query and load results into pandas DataFrame\n",
        "df = pd.read_sql_query(query, conn)\n",
        "print(\"✅ Query executed successfully!\")\n"
      ]
    },
    {
      "cell_type": "markdown",
      "metadata": {},
      "source": [
        "## 4. Display Results using Print\n"
      ]
    },
    {
      "cell_type": "code",
      "execution_count": null,
      "metadata": {},
      "outputs": [],
      "source": [
        "# Display the DataFrame using print\n",
        "print(\"📊 SALES SUMMARY RESULTS:\")\n",
        "print(\"=\" * 50)\n",
        "print(df)\n",
        "\n",
        "print(\"\\n📈 KEY METRICS:\")\n",
        "print(f\"💰 Total Revenue: ${df['revenue'].sum():.2f}\")\n",
        "print(f\"📦 Total Quantity Sold: {df['total_qty'].sum()}\")\n",
        "print(f\"🛍️  Number of Products: {len(df)}\")\n",
        "print(f\"🥇 Top Product by Revenue: {df.iloc[0]['product']} (${df.iloc[0]['revenue']:.2f})\")\n"
      ]
    },
    {
      "cell_type": "markdown",
      "metadata": {},
      "source": [
        "## 5. Create Basic Bar Chart (As Required in Task)\n"
      ]
    },
    {
      "cell_type": "code",
      "execution_count": null,
      "metadata": {},
      "outputs": [],
      "source": [
        "# Create simple bar chart as specified in the task\n",
        "df.plot(kind='bar', x='product', y='revenue', figsize=(10, 6), color='steelblue')\n",
        "plt.title('Revenue by Product', fontweight='bold')\n",
        "plt.xlabel('Product')\n",
        "plt.ylabel('Revenue ($)')\n",
        "plt.xticks(rotation=45)\n",
        "plt.tight_layout()\n",
        "\n",
        "# Save chart if needed (as mentioned in hints)\n",
        "plt.savefig(\"sales_chart.png\")\n",
        "plt.show()\n",
        "\n",
        "print(\"💾 Chart saved as: sales_chart.png\")\n"
      ]
    },
    {
      "cell_type": "markdown",
      "metadata": {},
      "source": [
        "## 6. Close Database Connection\n"
      ]
    },
    {
      "cell_type": "code",
      "execution_count": null,
      "metadata": {},
      "outputs": [],
      "source": [
        "# Close the database connection\n",
        "conn.close()\n",
        "print(\"🔌 Database connection closed.\")\n",
        "print(\"✅ Sales analysis completed successfully!\")\n"
      ]
    },
    {
      "cell_type": "markdown",
      "metadata": {},
      "source": [
        "---\n",
        "\n",
        "## Interview Questions & Answers\n",
        "\n",
        "**Q: How did you connect Python to a database?**  \n",
        "A: I used the `sqlite3` library (built into Python) with `sqlite3.connect(\"sales_data.db\")`\n",
        "\n",
        "**Q: What SQL query did you run?**  \n",
        "A: I ran a GROUP BY query: `SELECT product, SUM(quantity) AS total_qty, SUM(quantity * price) AS revenue FROM sales GROUP BY product`\n",
        "\n",
        "**Q: What does GROUP BY do?**  \n",
        "A: GROUP BY aggregates rows with the same values in specified columns into groups, allowing aggregate functions like SUM() to be applied to each group separately.\n",
        "\n",
        "**Q: How did you calculate revenue?**  \n",
        "A: Revenue = SUM(quantity * price) - I multiplied quantity by price for each sale and summed the results for each product group.\n",
        "\n",
        "**Q: How did you visualize the result?**  \n",
        "A: I used matplotlib to create bar charts showing revenue by product with `df.plot(kind='bar', x='product', y='revenue')`\n",
        "\n",
        "**Q: What does pandas do in your code?**  \n",
        "A: Pandas loads SQL query results into a DataFrame using `pd.read_sql_query()`, providing easy data manipulation and integration with matplotlib for plotting.\n",
        "\n",
        "**Q: What's the benefit of using SQL inside Python?**  \n",
        "A: Combines SQL's powerful querying capabilities with Python's data analysis tools, allowing efficient data extraction and seamless integration with visualization libraries.\n",
        "\n",
        "**Q: Could you run the same SQL query directly in DB Browser for SQLite?**  \n",
        "A: Yes, the exact same SQL query can be run in DB Browser for SQLite or any SQLite client to get the same results.\n"
      ]
    }
  ],
  "metadata": {
    "language_info": {
      "name": "python"
    }
  },
  "nbformat": 4,
  "nbformat_minor": 2
}
